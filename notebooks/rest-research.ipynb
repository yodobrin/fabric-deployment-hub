{
 "cells": [
  {
   "cell_type": "markdown",
   "metadata": {},
   "source": [
    "# Research Notebook: Working with Fabric Core APIs to handle deployment and lifecycle management of Fabric items\n",
    "\n",
    "This notebook demonstrates how to use the Fabric Core APIs to handle deployment and lifecycle management of Fabric items. The Fabric Core APIs are a set of APIs that allow you to interact with the Fabric platform programmatically. The Fabric Core APIs provide a way to automate common tasks such as deploying items, updating items, and managing the lifecycle of items."
   ]
  },
  {
   "cell_type": "code",
   "execution_count": 1,
   "metadata": {
    "dotnet_interactive": {
     "language": "csharp"
    },
    "polyglot_notebook": {
     "kernelName": "csharp"
    },
    "vscode": {
     "languageId": "polyglot-notebook"
    }
   },
   "outputs": [
    {
     "data": {
      "text/html": [
       "<div><div></div><div></div><div><strong>Installed Packages</strong><ul><li><span>Azure.Identity, 1.13.1</span></li><li><span>DotNetEnv, 2.5.0</span></li><li><span>Microsoft.Fabric.Api, 1.0.0-beta</span></li><li><span>Microsoft.Net.Http, 2.2.29</span></li></ul></div></div>"
      ]
     },
     "metadata": {},
     "output_type": "display_data"
    }
   ],
   "source": [
    "#r \"nuget: Azure.Identity, 1.13.1\"\n",
    "#r \"nuget: DotNetEnv, 2.5.0\"\n",
    "#r \"nuget: Microsoft.Net.Http,  2.2.29\"\n",
    "#r \"nuget: Microsoft.Fabric.Api, 1.0.0-beta\"\n"
   ]
  },
  {
   "cell_type": "code",
   "execution_count": 2,
   "metadata": {
    "dotnet_interactive": {
     "language": "csharp"
    },
    "polyglot_notebook": {
     "kernelName": "csharp"
    },
    "vscode": {
     "languageId": "polyglot-notebook"
    }
   },
   "outputs": [],
   "source": [
    "using Microsoft.Identity.Client;\n",
    "using System;\n",
    "using System.Threading.Tasks;\n",
    "using System.Net.Http;\n",
    "using System.Net.Http.Headers;\n",
    "using DotNetEnv;"
   ]
  },
  {
   "cell_type": "markdown",
   "metadata": {},
   "source": [
    "## Loading Environment Variables\n",
    "\n",
    "The following variables are stored in the `.env` file:\n",
    "- `AZURE_TENANT_ID`: The Azure tenant ID.\n",
    "- `FABRIC_API_CLIENT_ID`: The client ID of the app registration governing access to the Fabric API.\n",
    "- `FABRIC_API_CLIENT_SECRET`: The client secret of the app registration governing access to the Fabric API.\n",
    "\n",
    "These would be used to acquire an access token to authenticate requests to the Fabric API."
   ]
  },
  {
   "cell_type": "code",
   "execution_count": 3,
   "metadata": {
    "dotnet_interactive": {
     "language": "csharp"
    },
    "polyglot_notebook": {
     "kernelName": "csharp"
    },
    "vscode": {
     "languageId": "polyglot-notebook"
    }
   },
   "outputs": [
    {
     "name": "stdout",
     "output_type": "stream",
     "text": [
      "All environment variables are set\n",
      "tenantId: 0a8c004f-f29f-416b-82be-db6db348e5fa clientId: f052e5d7-abea-41ed-b29d-5f50cd49b726\n"
     ]
    }
   ],
   "source": [
    "static string _configurationFile = @\".env\";\n",
    "Env.Load(_configurationFile);\n",
    "\n",
    "// client cred flow\n",
    "string client_secret = Environment.GetEnvironmentVariable(\"FABRIC_API_CLIENT_SECRET\");\n",
    "string tenantId = Environment.GetEnvironmentVariable(\"AZURE_TENANT_ID\");\n",
    "string clientId = Environment.GetEnvironmentVariable(\"FABRIC_API_CLIENT_ID\");\n",
    "\n",
    "\n",
    "string[] scopes = new string[] { \"https://api.fabric.microsoft.com/.default\" };\n",
    "string authority = $\"https://login.microsoftonline.com/{tenantId}\";\n",
    "// check env variables\n",
    "if (string.IsNullOrEmpty(client_secret) || string.IsNullOrEmpty(tenantId) || string.IsNullOrEmpty(clientId))\n",
    "{\n",
    "    throw new Exception(\"Please provide all the required environment variables\");\n",
    "}else{\n",
    "    Console.WriteLine(\"All environment variables are set\");\n",
    "    Console.WriteLine($\"tenantId: {tenantId} clientId: {clientId}\");\n",
    "}"
   ]
  },
  {
   "cell_type": "markdown",
   "metadata": {},
   "source": [
    "## Access token acquisition & caching\n",
    "\n",
    "Before all calls to the fabric api endpoints, we need to acquire an access token. The method `GetAccessTokenAsync` is used to verify the existence of a valid access token, if it is expired or does not exist, a new access token is acquired."
   ]
  },
  {
   "cell_type": "code",
   "execution_count": 5,
   "metadata": {
    "dotnet_interactive": {
     "language": "csharp"
    },
    "polyglot_notebook": {
     "kernelName": "csharp"
    },
    "vscode": {
     "languageId": "polyglot-notebook"
    }
   },
   "outputs": [],
   "source": [
    "// Token cache variables\n",
    "string accessToken = null;\n",
    "DateTimeOffset accessTokenExpiresOn = DateTimeOffset.MinValue;\n",
    "IConfidentialClientApplication app = ConfidentialClientApplicationBuilder.Create(clientId)\n",
    "    .WithClientSecret(client_secret)\n",
    "    .WithAuthority(authority)\n",
    "    .Build();\n",
    "\n",
    "async Task<string> GetAccessTokenAsync()\n",
    "{\n",
    "    // Check if token is still valid\n",
    "    if (!string.IsNullOrEmpty(accessToken) && DateTimeOffset.UtcNow < accessTokenExpiresOn)\n",
    "    {\n",
    "        // Token is still valid\n",
    "        Console.WriteLine(\"Token is still valid\");\n",
    "        return accessToken;\n",
    "    }\n",
    "\n",
    "    // Token is expired or not acquired yet\n",
    "    try\n",
    "    {\n",
    "        AuthenticationResult result = await app.AcquireTokenForClient(scopes)\n",
    "            .ExecuteAsync();\n",
    "\n",
    "        // Update the token and its expiration time\n",
    "        accessToken = result.AccessToken;\n",
    "        \n",
    "        accessTokenExpiresOn = result.ExpiresOn;\n",
    "\n",
    "        return accessToken;\n",
    "    }\n",
    "    catch (MsalServiceException ex)\n",
    "    {\n",
    "        Console.WriteLine($\"MsalServiceException when acquiring token: {ex.Message}\");\n",
    "        throw;\n",
    "    }\n",
    "    catch (Exception ex)\n",
    "    {\n",
    "        Console.WriteLine($\"Exception when acquiring token: {ex.Message}\");\n",
    "        throw;\n",
    "    }\n",
    "}"
   ]
  },
  {
   "cell_type": "markdown",
   "metadata": {},
   "source": [
    "## Supporting Methods\n",
    "\n",
    "The current design use a string representation of the api response, casting to specific objects would be done post request.\n",
    "The following methods are used to interact with the Fabric Core APIs:\n",
    "- `GetAsync`: This method is used to make a GET request to the Fabric API. It would appends the provided uri to the base url and returns the response as a string.\n",
    "- `PostAsync`: this method is used to make a POST request to the Fabric API. It would appends the provided uri to the base url and returns the response as a string. The payload is provided as `HttpContent`."
   ]
  },
  {
   "cell_type": "code",
   "execution_count": 6,
   "metadata": {
    "dotnet_interactive": {
     "language": "csharp"
    },
    "polyglot_notebook": {
     "kernelName": "csharp"
    },
    "vscode": {
     "languageId": "polyglot-notebook"
    }
   },
   "outputs": [],
   "source": [
    "HttpClient httpClient;\n",
    "httpClient = new HttpClient\n",
    "    {\n",
    "        BaseAddress = new Uri(\"https://api.fabric.microsoft.com/v1/\")\n",
    "    };\n",
    "    \n",
    "async Task<string> GetAsync(string uri)\n",
    "{\n",
    "    string accessToken = await GetAccessTokenAsync();\n",
    "    httpClient.DefaultRequestHeaders.Authorization = new AuthenticationHeaderValue(\"Bearer\", accessToken);\n",
    "\n",
    "    try\n",
    "    {\n",
    "        HttpResponseMessage response = await httpClient.GetAsync(uri);\n",
    "        response.EnsureSuccessStatusCode(); // Throws if not 2xx\n",
    "\n",
    "        string responseBody = await response.Content.ReadAsStringAsync();\n",
    "        return responseBody;\n",
    "    }\n",
    "    catch (HttpRequestException ex)\n",
    "    {\n",
    "        Console.WriteLine($\"HTTP GET error: {ex.Message}\");\n",
    "        throw;\n",
    "    }\n",
    "}\n",
    "\n",
    "async Task<string> PostAsync(string uri, string jsonPayload)\n",
    "{\n",
    "    string accessToken = await GetAccessTokenAsync();\n",
    "    httpClient.DefaultRequestHeaders.Authorization = new AuthenticationHeaderValue(\"Bearer\", accessToken);\n",
    "\n",
    "    try\n",
    "    {\n",
    "        var content = new StringContent(jsonPayload, Encoding.UTF8, \"application/json\");\n",
    "        HttpResponseMessage response = await httpClient.PostAsync(uri, content);\n",
    "\n",
    "        if (response.StatusCode == System.Net.HttpStatusCode.Accepted) // Check for 202\n",
    "        {\n",
    "            if (response.Headers.Location != null)\n",
    "            {\n",
    "                return response.Headers.Location.ToString(); // Return the Location header\n",
    "            }\n",
    "            throw new Exception(\"202 Accepted but no Location header returned.\");\n",
    "        }\n",
    "\n",
    "        response.EnsureSuccessStatusCode(); // Throws if not 2xx\n",
    "        return await response.Content.ReadAsStringAsync();\n",
    "    }\n",
    "    catch (HttpRequestException ex)\n",
    "    {\n",
    "        Console.WriteLine($\"HTTP POST error: {ex.Message}\");\n",
    "        throw;\n",
    "    }\n",
    "}\n",
    "async Task<string> PollStatusAsync(string locationUri)\n",
    "{\n",
    "    string accessToken = await GetAccessTokenAsync();\n",
    "    httpClient.DefaultRequestHeaders.Authorization = new AuthenticationHeaderValue(\"Bearer\", accessToken);\n",
    "\n",
    "    while (true)\n",
    "    {\n",
    "        try\n",
    "        {\n",
    "            HttpResponseMessage response = await httpClient.GetAsync(locationUri);\n",
    "\n",
    "            if (response.StatusCode == System.Net.HttpStatusCode.OK)\n",
    "            {\n",
    "                // Operation completed; return the final response\n",
    "                return await response.Content.ReadAsStringAsync();\n",
    "            }\n",
    "            else if (response.StatusCode == System.Net.HttpStatusCode.Accepted)\n",
    "            {\n",
    "                // Operation still in progress; wait and retry\n",
    "                Console.WriteLine(\"Operation in progress...\");\n",
    "                await Task.Delay(2000); // Wait for 2 seconds before retrying\n",
    "                continue;\n",
    "            }\n",
    "            else\n",
    "            {\n",
    "                // Handle other status codes\n",
    "                throw new Exception($\"Unexpected status code: {response.StatusCode}\");\n",
    "            }\n",
    "        }\n",
    "        catch (HttpRequestException ex)\n",
    "        {\n",
    "            Console.WriteLine($\"Polling error: {ex.Message}\");\n",
    "            throw;\n",
    "        }\n",
    "    }\n",
    "}\n",
    "\n",
    "async Task DeleteAsync(string uri)\n",
    "{\n",
    "    string accessToken = await GetAccessTokenAsync();\n",
    "    httpClient.DefaultRequestHeaders.Authorization = new AuthenticationHeaderValue(\"Bearer\", accessToken);\n",
    "\n",
    "    try\n",
    "    {\n",
    "        HttpResponseMessage response = await httpClient.DeleteAsync(uri);\n",
    "\n",
    "        if (response.IsSuccessStatusCode)\n",
    "        {\n",
    "            Console.WriteLine($\"Successfully deleted: {uri}\");\n",
    "        }\n",
    "        else\n",
    "        {\n",
    "            Console.WriteLine($\"Failed to delete: {uri}\");\n",
    "            Console.WriteLine($\"Status Code: {response.StatusCode}\");\n",
    "            Console.WriteLine($\"Reason: {response.ReasonPhrase}\");\n",
    "        }\n",
    "    }\n",
    "    catch (HttpRequestException ex)\n",
    "    {\n",
    "        Console.WriteLine($\"HTTP DELETE error: {ex.Message}\");\n",
    "        throw;\n",
    "    }\n",
    "}\n",
    "\n",
    "async Task<string> PatchAsync(string uri, string jsonPayload)\n",
    "{\n",
    "    string accessToken = await GetAccessTokenAsync();\n",
    "    httpClient.DefaultRequestHeaders.Authorization = new AuthenticationHeaderValue(\"Bearer\", accessToken);\n",
    "\n",
    "    try\n",
    "    {\n",
    "        var content = new StringContent(jsonPayload, Encoding.UTF8, \"application/json\");\n",
    "        var request = new HttpRequestMessage(new HttpMethod(\"PATCH\"), uri)\n",
    "        {\n",
    "            Content = content\n",
    "        };\n",
    "\n",
    "        HttpResponseMessage response = await httpClient.SendAsync(request);\n",
    "\n",
    "        if (response.IsSuccessStatusCode)\n",
    "        {\n",
    "            Console.WriteLine($\"Successfully patched: {uri}\");\n",
    "            return await response.Content.ReadAsStringAsync(); // Return response body if needed\n",
    "        }\n",
    "        else\n",
    "        {\n",
    "            Console.WriteLine($\"Failed to patch: {uri}\");\n",
    "            Console.WriteLine($\"Status Code: {response.StatusCode}\");\n",
    "            Console.WriteLine($\"Reason: {response.ReasonPhrase}\");\n",
    "            string errorContent = await response.Content.ReadAsStringAsync();\n",
    "            Console.WriteLine($\"Error Content: {errorContent}\");\n",
    "            throw new Exception($\"PATCH request failed with status code {response.StatusCode}\");\n",
    "        }\n",
    "    }\n",
    "    catch (HttpRequestException ex)\n",
    "    {\n",
    "        Console.WriteLine($\"HTTP PATCH error: {ex.Message}\");\n",
    "        throw;\n",
    "    }\n",
    "}"
   ]
  },
  {
   "cell_type": "markdown",
   "metadata": {},
   "source": [
    "## Examples\n",
    "\n",
    "### Getting an Access Token"
   ]
  },
  {
   "cell_type": "code",
   "execution_count": 7,
   "metadata": {
    "dotnet_interactive": {
     "language": "csharp"
    },
    "polyglot_notebook": {
     "kernelName": "csharp"
    },
    "vscode": {
     "languageId": "polyglot-notebook"
    }
   },
   "outputs": [
    {
     "name": "stdout",
     "output_type": "stream",
     "text": [
      "eyJ0eXAiOiJKV1QiLCJhbGciOiJSUzI1NiIsIng1dCI6Inp4ZWcyV09OcFRrd041R21lWWN1VGR0QzZKMCIsImtpZCI6Inp4ZWcyV09OcFRrd041R21lWWN1VGR0QzZKMCJ9.eyJhdWQiOiJodHRwczovL2FwaS5mYWJyaWMubWljcm9zb2Z0LmNvbSIsImlzcyI6Imh0dHBzOi8vc3RzLndpbmRvd3MubmV0LzBhOGMwMDRmLWYyOWYtNDE2Yi04MmJlLWRiNmRiMzQ4ZTVmYS8iLCJpYXQiOjE3MzIyMDE1ODgsIm5iZiI6MTczMjIwMTU4OCwiZXhwIjoxNzMyMjA1NDg4LCJhaW8iOiJrMkJnWUxCbVc2QTY1Y0g3ME1RTnUvaUxidlUxQUFBPSIsImFwcGlkIjoiZjA1MmU1ZDctYWJlYS00MWVkLWIyOWQtNWY1MGNkNDliNzI2IiwiYXBwaWRhY3IiOiIxIiwiaWRwIjoiaHR0cHM6Ly9zdHMud2luZG93cy5uZXQvMGE4YzAwNGYtZjI5Zi00MTZiLTgyYmUtZGI2ZGIzNDhlNWZhLyIsImlkdHlwIjoiYXBwIiwib2lkIjoiNzI0MjEwNjYtYTNjOC00ZjhhLWJmYzYtM2M1NjE4MDZjMjQ3IiwicmgiOiIxLkFXRUJUd0NNQ3BfeWEwR0N2dHR0czBqbC1na0FBQUFBQUFBQXdBQUFBQUFBQUFCaEFRQmhBUS4iLCJyb2xlcyI6WyJUZW5hbnQuUmVhZFdyaXRlLkFsbCIsIlRlbmFudC5SZWFkLkFsbCJdLCJzdWIiOiI3MjQyMTA2Ni1hM2M4LTRmOGEtYmZjNi0zYzU2MTgwNmMyNDciLCJ0aWQiOiIwYThjMDA0Zi1mMjlmLTQxNmItODJiZS1kYjZkYjM0OGU1ZmEiLCJ1dGkiOiJmak05MlNQN2cwaUp4YUdGU1FFUkFBIiwidmVyIjoiMS4wIiwieG1zX2lkcmVsIjoiNyA4In0.PN8iLei_t0lkLTXDlFKdofK2sVVyPKBwZzdNQUTNsgthHdygk0EHJa2fT-aMmVZm5YMfmhp7Uikeoy-8wlCu3rrLzN4WmaJxVqwYtT5eivvzg1zVyg24ZmJX6f4W661D_woSHBdSmRmlX4zPwxFPEPi3R5ulxj8M17wV0mGNVTq-IKKC7q7jic5tXwB0TJmsMcy5iPWYvR2Gukz8qrfYJVjhIVV7ib4yVQGlrR91t3PCLuXQsroits-hHjCAsllnbG2D0zfenNvZ_ND0vP6j5V9BF1JKWtz7CcHZun02ajNvD6JXHkOL28acnmqIH85j8Va21RJG6G7Q2MQ957iCPg\n"
     ]
    }
   ],
   "source": [
    "var token = GetAccessTokenAsync().Result;\n",
    "Console.WriteLine(token);   "
   ]
  },
  {
   "cell_type": "markdown",
   "metadata": {},
   "source": [
    "### Getting all the workspaces"
   ]
  },
  {
   "cell_type": "code",
   "execution_count": 8,
   "metadata": {
    "dotnet_interactive": {
     "language": "csharp"
    },
    "polyglot_notebook": {
     "kernelName": "csharp"
    },
    "vscode": {
     "languageId": "polyglot-notebook"
    }
   },
   "outputs": [
    {
     "name": "stdout",
     "output_type": "stream",
     "text": [
      "Token is still valid\n",
      "Workspaces:\n",
      "{\"value\":[{\"id\":\"4aca0508-e966-40a7-a2a2-84861b281c83\",\"displayName\":\"feature6-11\",\"description\":\"demo feature workspace\",\"type\":\"Workspace\",\"capacityId\":\"5eac7a35-45d2-4c15-b2f1-b1aabee4ae2e\"},{\"id\":\"3dc6d3ea-f6c5-41c6-b9f7-dbdadccfd76e\",\"displayName\":\"testwithdolev\",\"description\":\"\",\"type\":\"Workspace\",\"capacityId\":\"5eac7a35-45d2-4c15-b2f1-b1aabee4ae2e\"}]}\n"
     ]
    }
   ],
   "source": [
    "\n",
    "string workspacesResponse = await GetAsync(\"workspaces\");\n",
    "Console.WriteLine(\"Workspaces:\");\n",
    "Console.WriteLine(workspacesResponse);\n",
    "\n"
   ]
  },
  {
   "cell_type": "markdown",
   "metadata": {},
   "source": [
    "### Getting items in a workspace"
   ]
  },
  {
   "cell_type": "code",
   "execution_count": 9,
   "metadata": {
    "dotnet_interactive": {
     "language": "csharp"
    },
    "polyglot_notebook": {
     "kernelName": "csharp"
    },
    "vscode": {
     "languageId": "polyglot-notebook"
    }
   },
   "outputs": [
    {
     "name": "stdout",
     "output_type": "stream",
     "text": [
      "Token is still valid\n",
      "Items:\n",
      "{\"value\":[{\"id\":\"82098dd0-0b5c-42c0-9060-97600acd3063\",\"type\":\"Notebook\",\"displayName\":\"Notebook 2\",\"description\":\"New notebook\",\"workspaceId\":\"4aca0508-e966-40a7-a2a2-84861b281c83\"},{\"id\":\"31e8534b-d7a7-4213-a0d5-7a2630e11473\",\"type\":\"Notebook\",\"displayName\":\"Notebook X\",\"description\":\"A notebook which was created via REST description\",\"workspaceId\":\"4aca0508-e966-40a7-a2a2-84861b281c83\"},{\"id\":\"e5c54f32-4b1b-4289-9654-814309a0bb14\",\"type\":\"Notebook\",\"displayName\":\"Notebook 2XX\",\"description\":\"A notebook which was created via REST together with O\",\"workspaceId\":\"4aca0508-e966-40a7-a2a2-84861b281c83\"},{\"id\":\"6e072d2a-587c-49a6-ae3f-92386730dc7f\",\"type\":\"Notebook\",\"displayName\":\"Notebook 4X4\",\"description\":\"A notebook which was created via REST description\",\"workspaceId\":\"4aca0508-e966-40a7-a2a2-84861b281c83\"},{\"id\":\"ee37a9ae-d1d8-4ac8-b132-debb0279a1b0\",\"type\":\"Notebook\",\"displayName\":\"A Sample Notebook4 Updated\",\"description\":\"A sample notebook4 description4 Updated\",\"workspaceId\":\"4aca0508-e966-40a7-a2a2-84861b281c83\"}]}\n"
     ]
    }
   ],
   "source": [
    "// use one of the ids from the workspaces response\n",
    "string sample_ws_id = \"4aca0508-e966-40a7-a2a2-84861b281c83\";\n",
    "string itemsResponse = await GetAsync($\"workspaces/{sample_ws_id}/notebooks\");\n",
    "Console.WriteLine(\"Items:\");\n",
    "Console.WriteLine(itemsResponse);"
   ]
  },
  {
   "cell_type": "markdown",
   "metadata": {},
   "source": [
    "## Deployment and Lifecycle Management\n",
    "\n",
    "In this section, we would demonstrate how to deploy items to a workspace and manage the lifecycle of the items. (e.g. create, update, delete)\n",
    "\n",
    "The [REST](https://learn.microsoft.com/en-us/rest/api/fabric/notebook/items) documentation provide further details.\n",
    "\n",
    "### Create a new item : Notebook : w/o definition\n",
    "\n",
    "Creation of an item (including a notebook) is creating an empty content asset and a meta-data asset named `.platform`. The meta-data asset contains the definition of the item. Here is how the payload would look like for a creation of an item without a definition.\n",
    "One needs to provide the `workspaceId` in which the item would be created.\n",
    "\n",
    "```json\n",
    "POST https://api.fabric.microsoft.com/v1/workspaces/{{workspaceId}}/notebooks\n",
    "Content-Type: application/json\n",
    "Authorization: Bearer ACCESS_TOKEN\n",
    "\n",
    "{\n",
    "    \"displayName\": \"Notebook Name\",\n",
    "    \"description\": \"A notebook which was created via REST API\"\n",
    "}\n",
    "```\n"
   ]
  },
  {
   "cell_type": "code",
   "execution_count": 10,
   "metadata": {
    "dotnet_interactive": {
     "language": "csharp"
    },
    "polyglot_notebook": {
     "kernelName": "csharp"
    },
    "vscode": {
     "languageId": "polyglot-notebook"
    }
   },
   "outputs": [],
   "source": [
    "using System.Text.Json.Serialization;\n",
    "using System.Text.Json;\n",
    "\n",
    "public class NotebookPayload\n",
    "{\n",
    "    [JsonPropertyName(\"displayName\")]\n",
    "    public string DisplayName { get; set; }\n",
    "\n",
    "    [JsonPropertyName(\"description\")]\n",
    "    public string Description { get; set; }\n",
    "\n",
    "    [JsonPropertyName(\"definition\")]\n",
    "    public NotebookDefinition Definition { get; set; }\n",
    "}\n",
    "\n",
    "public class NotebookDefinition\n",
    "{\n",
    "    // dont use the format\n",
    "    // [JsonPropertyName(\"format\")]\n",
    "    // public string Format { get; set; }\n",
    "\n",
    "    [JsonPropertyName(\"parts\")]\n",
    "    public List<NotebookPart> Parts { get; set; }\n",
    "}\n",
    "\n",
    "public class NotebookPart\n",
    "{\n",
    "    [JsonPropertyName(\"path\")]\n",
    "    public string Path { get; set; }\n",
    "\n",
    "    [JsonPropertyName(\"payload\")]\n",
    "    public string Payload { get; set; }\n",
    "\n",
    "    [JsonPropertyName(\"payloadType\")]\n",
    "    public string PayloadType { get; set; }\n",
    "}\n",
    "\n",
    "public class NotebookItem\n",
    "{\n",
    "    [JsonPropertyName(\"id\")]\n",
    "    public string Id { get; set; }\n",
    "\n",
    "    [JsonPropertyName(\"type\")]\n",
    "    public string Type { get; set; }\n",
    "\n",
    "    [JsonPropertyName(\"displayName\")]\n",
    "    public string DisplayName { get; set; }\n",
    "\n",
    "    [JsonPropertyName(\"description\")]\n",
    "    public string Description { get; set; }\n",
    "\n",
    "    [JsonPropertyName(\"workspaceId\")]\n",
    "    public string WorkspaceId { get; set; }\n",
    "}\n",
    "\n",
    "public class NotebookResponse\n",
    "{\n",
    "    [JsonPropertyName(\"value\")]\n",
    "    public List<NotebookItem> Value { get; set; }\n",
    "}"
   ]
  },
  {
   "cell_type": "code",
   "execution_count": 11,
   "metadata": {
    "dotnet_interactive": {
     "language": "csharp"
    },
    "polyglot_notebook": {
     "kernelName": "csharp"
    },
    "vscode": {
     "languageId": "polyglot-notebook"
    }
   },
   "outputs": [
    {
     "name": "stdout",
     "output_type": "stream",
     "text": [
      "Token is still valid\n",
      "Notebook creation initiated. Location: https://wabi-us-east2-d-primary-redirect.analysis.windows.net/v1/operations/fb93f9ff-df5b-44d4-aba0-929bfbeba07c\n",
      "Token is still valid\n",
      "Final Notebook Response:\n",
      "{\"status\":\"Succeeded\",\"createdTimeUtc\":\"2024-11-21T15:12:18.7573396\",\"lastUpdatedTimeUtc\":\"2024-11-21T15:12:19.2729699\",\"percentComplete\":100,\"error\":null}\n"
     ]
    }
   ],
   "source": [
    "string notebook_name = \"A Sample Notebook5\";\n",
    "string notebook_desc = \"A sample notebook5 description5\";\n",
    "\n",
    "var notebookPayload = new NotebookPayload\n",
    "{\n",
    "    DisplayName = notebook_name,\n",
    "    Description = notebook_desc\n",
    "};\n",
    "\n",
    "var uri = $\"workspaces/{sample_ws_id}/notebooks\";\n",
    "var jsonPayload = JsonSerializer.Serialize(notebookPayload);\n",
    "\n",
    "// Step 1: Create the notebook\n",
    "string location = await PostAsync(uri, jsonPayload);\n",
    "Console.WriteLine($\"Notebook creation initiated. Location: {location}\");\n",
    "\n",
    "// Step 2: Poll the status\n",
    "if (!string.IsNullOrEmpty(location))\n",
    "{\n",
    "    string finalResponse = await PollStatusAsync(location);\n",
    "    Console.WriteLine(\"Final Notebook Response:\");\n",
    "    Console.WriteLine(finalResponse);\n",
    "}\n",
    "else\n",
    "{\n",
    "    Console.WriteLine(\"No Location header received; unable to poll.\");\n",
    "}"
   ]
  },
  {
   "cell_type": "markdown",
   "metadata": {},
   "source": [
    "After a notebook is created, we can either delete it or update it. However the response does not include the id of the notebook. for that we need to call yet another api.\n",
    "\n",
    "### List Notebooks\n",
    "\n",
    "`GET https://api.fabric.microsoft.com/v1/workspaces/{workspaceId}/notebooks`"
   ]
  },
  {
   "cell_type": "code",
   "execution_count": 14,
   "metadata": {
    "dotnet_interactive": {
     "language": "csharp"
    },
    "polyglot_notebook": {
     "kernelName": "csharp"
    },
    "vscode": {
     "languageId": "polyglot-notebook"
    }
   },
   "outputs": [
    {
     "name": "stdout",
     "output_type": "stream",
     "text": [
      "Token is still valid\n",
      "Items:\n",
      "- ID: 82098dd0-0b5c-42c0-9060-97600acd3063\n",
      "  Type: Notebook\n",
      "  Display Name: Notebook 2\n",
      "  Description: New notebook\n",
      "  Workspace ID: 4aca0508-e966-40a7-a2a2-84861b281c83\n",
      "\n",
      "- ID: 31e8534b-d7a7-4213-a0d5-7a2630e11473\n",
      "  Type: Notebook\n",
      "  Display Name: Notebook X\n",
      "  Description: A notebook which was created via REST description\n",
      "  Workspace ID: 4aca0508-e966-40a7-a2a2-84861b281c83\n",
      "\n",
      "- ID: e5c54f32-4b1b-4289-9654-814309a0bb14\n",
      "  Type: Notebook\n",
      "  Display Name: Notebook 2XX\n",
      "  Description: A notebook which was created via REST together with O\n",
      "  Workspace ID: 4aca0508-e966-40a7-a2a2-84861b281c83\n",
      "\n",
      "- ID: 6e072d2a-587c-49a6-ae3f-92386730dc7f\n",
      "  Type: Notebook\n",
      "  Display Name: Notebook 4X4\n",
      "  Description: A notebook which was created via REST description\n",
      "  Workspace ID: 4aca0508-e966-40a7-a2a2-84861b281c83\n",
      "\n",
      "- ID: ee37a9ae-d1d8-4ac8-b132-debb0279a1b0\n",
      "  Type: Notebook\n",
      "  Display Name: A Sample Notebook4 Updated\n",
      "  Description: A sample notebook4 description4 Updated\n",
      "  Workspace ID: 4aca0508-e966-40a7-a2a2-84861b281c83\n",
      "\n"
     ]
    }
   ],
   "source": [
    "// using the same sample_ws_id\n",
    "\n",
    "var uri = $\"workspaces/{sample_ws_id}/notebooks\";\n",
    "\n",
    "string itemsResponse = await GetAsync(uri);\n",
    "try\n",
    "{\n",
    "    // Deserialize the JSON response\n",
    "    var notebooks = JsonSerializer.Deserialize<NotebookResponse>(itemsResponse);\n",
    "\n",
    "    // Print in a readable format\n",
    "    Console.WriteLine(\"Items:\");\n",
    "    foreach (var notebook in notebooks?.Value ?? new List<NotebookItem>())\n",
    "    {\n",
    "        Console.WriteLine($\"- ID: {notebook.Id}\");\n",
    "        Console.WriteLine($\"  Type: {notebook.Type}\");\n",
    "        Console.WriteLine($\"  Display Name: {notebook.DisplayName}\");\n",
    "        Console.WriteLine($\"  Description: {notebook.Description}\");\n",
    "        Console.WriteLine($\"  Workspace ID: {notebook.WorkspaceId}\");\n",
    "        Console.WriteLine(); // Blank line for better readability\n",
    "    }\n",
    "}\n",
    "catch (Exception ex)\n",
    "{\n",
    "    Console.WriteLine($\"Error processing response: {ex.Message}\");\n",
    "}"
   ]
  },
  {
   "cell_type": "markdown",
   "metadata": {},
   "source": [
    "### Delete a Notebook\n",
    "\n",
    "In order to delete we need to have the notebook id and the workspace id to which it belongs:\n",
    "`DELETE https://api.fabric.microsoft.com/v1/workspaces/{workspaceId}/notebooks/{notebookId}`"
   ]
  },
  {
   "cell_type": "code",
   "execution_count": 13,
   "metadata": {
    "dotnet_interactive": {
     "language": "csharp"
    },
    "polyglot_notebook": {
     "kernelName": "csharp"
    },
    "vscode": {
     "languageId": "polyglot-notebook"
    }
   },
   "outputs": [
    {
     "name": "stdout",
     "output_type": "stream",
     "text": [
      "Token is still valid\n",
      "Successfully deleted: workspaces/4aca0508-e966-40a7-a2a2-84861b281c83/notebooks/494bbb26-aa14-4ec6-8896-4929722a8b71\n"
     ]
    }
   ],
   "source": [
    "var notebook_id = \"494bbb26-aa14-4ec6-8896-4929722a8b71\";\n",
    "var deleteUri = $\"workspaces/{sample_ws_id}/notebooks/{notebook_id}\";\n",
    "await DeleteAsync(deleteUri);\n",
    "\n"
   ]
  },
  {
   "cell_type": "markdown",
   "metadata": {},
   "source": [
    "### Update a Notebook\n",
    "\n",
    "Lets first examine the update w/o the definition of the notebook:\n",
    "`PATCH https://api.fabric.microsoft.com/v1/workspaces/{workspaceId}/notebooks/{notebookId}` is the api we need to call. it has similar payload as the creation w/o definition."
   ]
  },
  {
   "cell_type": "code",
   "execution_count": null,
   "metadata": {
    "dotnet_interactive": {
     "language": "csharp"
    },
    "polyglot_notebook": {
     "kernelName": "csharp"
    },
    "vscode": {
     "languageId": "polyglot-notebook"
    }
   },
   "outputs": [],
   "source": [
    "var notebook_2_update = \"ee37a9ae-d1d8-4ac8-b132-debb0279a1b0\";\n",
    "var notebook_name = \"A Sample Notebook4 Updated\";\n",
    "var notebook_desc = \"A sample notebook4 description4 Updated\";\n",
    "\n",
    "var notebookPayload = new NotebookPayload\n",
    "{\n",
    "    DisplayName = notebook_name,\n",
    "    Description = notebook_desc\n",
    "};\n",
    "\n",
    "var uri = $\"workspaces/{sample_ws_id}/notebooks/{notebook_2_update}\";\n",
    "var jsonPayload = JsonSerializer.Serialize(notebookPayload);\n",
    "\n",
    "// Call the PatchAsync method\n",
    "string patchResponse = await PatchAsync(uri, jsonPayload);\n",
    "Console.WriteLine(\"Patch Response:\");\n",
    "Console.WriteLine(patchResponse);"
   ]
  },
  {
   "cell_type": "markdown",
   "metadata": {},
   "source": [
    "### Create Item (Notebook) with Definition\n",
    "\n",
    "The definition of the notebook is a json object which contains the cells (content) and the metadata of the notebook (.platform). The payload would look like this:\n",
    "\n",
    "```json\n",
    "POST https://api.fabric.microsoft.com/v1/workspaces/{{workspaceId}}/notebooks\n",
    "Content-Type: application/json\n",
    "Authorization Bearer ACCESS\n",
    "\n",
    "{\n",
    "    \"displayName\": \"Notebook XXX\",\n",
    "    \"description\": \"A notebook which was created via REST description\",\n",
    "    \"definition\": {\n",
    "        \"parts\": [\n",
    "            {\n",
    "                \"path\": \"notebook-content.py\",\n",
    "                \"payload\": \"{{content_b64}}\",\n",
    "                \"payloadType\": \"InlineBase64\"\n",
    "            },\n",
    "            {\n",
    "                \"path\": \".platform\",\n",
    "                \"payload\": \"{{platform_b64}}\",\n",
    "                \"payloadType\": \"InlineBase64\"\n",
    "            }\n",
    "        ]\n",
    "    }\n",
    "}\n",
    "```"
   ]
  },
  {
   "cell_type": "code",
   "execution_count": 15,
   "metadata": {
    "dotnet_interactive": {
     "language": "csharp"
    },
    "polyglot_notebook": {
     "kernelName": "csharp"
    },
    "vscode": {
     "languageId": "polyglot-notebook"
    }
   },
   "outputs": [
    {
     "name": "stdout",
     "output_type": "stream",
     "text": [
      "Token is still valid\n",
      "Notebook creation initiated. Location: https://wabi-us-east2-d-primary-redirect.analysis.windows.net/v1/operations/9ee625c4-070a-42f2-bad4-20a6ea8f5c29\n",
      "Token is still valid\n",
      "Final Notebook Response:\n",
      "{\"status\":\"Running\",\"createdTimeUtc\":\"2024-11-21T16:05:45.1046876\",\"lastUpdatedTimeUtc\":\"2024-11-21T16:05:45.1046876\",\"percentComplete\":null,\"error\":null}\n"
     ]
    }
   ],
   "source": [
    "// will continue to use the same sample_ws_id\n",
    "\n",
    "var notebook_with_name = \"Sample Notebook 5x5\";\n",
    "var notebook_with_desc = \"Sample Notebook 5x5 description with definition\";\n",
    "\n",
    "var platform_part_b64 = \"ewogICIkc2NoZW1hIjogImh0dHBzOi8vZGV2ZWxvcGVyLm1pY3Jvc29mdC5jb20vanNvbi1zY2hlbWFzL2ZhYnJpYy9naXRJbnRlZ3JhdGlvbi9wbGF0Zm9ybVByb3BlcnRpZXMvMi4wLjAvc2NoZW1hLmpzb24iLAogICJtZXRhZGF0YSI6IHsKICAgICJ0eXBlIjogIk5vdGVib29rIiwKICAgICJkaXNwbGF5TmFtZSI6ICJOb3RlYm9vayAyWFgiLAogICAgImRlc2NyaXB0aW9uIjogIk5ldyBub3RlYm9vayBmcmVzaCBmcm9tIFJFU1Qgd2l0aCBzZWNyZXQgc2F1Y2UiCiAgfSwKICAiY29uZmlnIjogewogICAgInZlcnNpb24iOiAiMi4wIiwKICAgICJsb2dpY2FsSWQiOiAiMDAwMDAwMDAtMDAwMC0wMDAwLTAwMDAtMDAwMDAwMDAwMDAwIgogIH0KfQ==\";\n",
    "var content_part_b64 = \"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\";\n",
    "\n",
    "var notebookPayload = new \n",
    "{\n",
    "    displayName = notebook_name,\n",
    "    description = notebook_desc,\n",
    "    definition = new \n",
    "    {        \n",
    "        parts = new[] \n",
    "        {\n",
    "            new \n",
    "            {\n",
    "                path = \"notebook-content.py\",\n",
    "                payload = content_part_b64,\n",
    "                payloadType = \"InlineBase64\"\n",
    "            },\n",
    "            new \n",
    "            {\n",
    "                path = \".platform\",\n",
    "                payload = platform_part_b64,\n",
    "                payloadType = \"InlineBase64\"\n",
    "            }\n",
    "        }\n",
    "    }\n",
    "};\n",
    "\n",
    "var uri = $\"workspaces/{sample_ws_id}/notebooks\";\n",
    "var jsonPayload = JsonSerializer.Serialize(notebookPayload);\n",
    "\n",
    "// Call the PostAsync method\n",
    "string location = await PostAsync(uri, jsonPayload);\n",
    "\n",
    "// Step 2: Poll the status\n",
    "Console.WriteLine($\"Notebook creation initiated. Location: {location}\");\n",
    "\n",
    "// Step 2: Poll the status\n",
    "if (!string.IsNullOrEmpty(location))\n",
    "{\n",
    "    string finalResponse = await PollStatusAsync(location);\n",
    "    Console.WriteLine(\"Final Notebook Response:\");\n",
    "    Console.WriteLine(finalResponse);\n",
    "}\n",
    "else\n",
    "{\n",
    "    Console.WriteLine(\"No Location header received; unable to poll.\");\n",
    "}"
   ]
  },
  {
   "cell_type": "markdown",
   "metadata": {},
   "source": [
    "### Update Item (Notebook) with Definition\n",
    "\n",
    "`POST https://api.fabric.microsoft.com/v1/workspaces/{workspaceId}/notebooks/{notebookId}/updateDefinition` is the api we need to call. The payload is similar to the creation of a notebook with definition.\n"
   ]
  },
  {
   "cell_type": "code",
   "execution_count": 18,
   "metadata": {
    "dotnet_interactive": {
     "language": "csharp"
    },
    "polyglot_notebook": {
     "kernelName": "csharp"
    },
    "vscode": {
     "languageId": "polyglot-notebook"
    }
   },
   "outputs": [
    {
     "name": "stdout",
     "output_type": "stream",
     "text": [
      "Token is still valid\n",
      "Notebook creation initiated. Location: https://wabi-us-east2-d-primary-redirect.analysis.windows.net/v1/operations/de0a2f1d-acfa-404d-837f-3469206c478f\n",
      "Token is still valid\n",
      "Final Notebook Response:\n",
      "{\"status\":\"Succeeded\",\"createdTimeUtc\":\"2024-11-21T16:15:01.3296532\",\"lastUpdatedTimeUtc\":\"2024-11-21T16:15:02.1265402\",\"percentComplete\":100,\"error\":null}\n"
     ]
    }
   ],
   "source": [
    "// we wil use these:\n",
    "var notebook_2_update = \"ee37a9ae-d1d8-4ac8-b132-debb0279a1b0\";\n",
    "// var notebook_name = \"A Sample Notebook4 Updated\";\n",
    "// var notebook_desc = \"A sample notebook4 description4 Updated\";\n",
    "notebook_desc = \"A sample notebook4 description4 Updated with definition\";\n",
    "// we will also use the same part as the notebook we update is an empty one\n",
    "var notebookPayload2 = new \n",
    "{\n",
    "    displayName = \"A Sample Notebook4 Updated\",\n",
    "    description = notebook_desc,\n",
    "    definition = new \n",
    "    {        \n",
    "        parts = new[] \n",
    "        {\n",
    "            new \n",
    "            {\n",
    "                path = \"notebook-content.py\",\n",
    "                payload = content_part_b64,\n",
    "                payloadType = \"InlineBase64\"\n",
    "            },\n",
    "            new \n",
    "            {\n",
    "                path = \".platform\",\n",
    "                payload = platform_part_b64,\n",
    "                payloadType = \"InlineBase64\"\n",
    "            }\n",
    "        }\n",
    "    }\n",
    "};\n",
    "\n",
    "uri = $\"workspaces/{sample_ws_id}/notebooks/{notebook_2_update}/updateDefinition\";\n",
    "jsonPayload = JsonSerializer.Serialize(notebookPayload);\n",
    "\n",
    "// Call the PostAsync method\n",
    "string location = await PostAsync(uri, jsonPayload);\n",
    "\n",
    "// Step 2: Poll the status\n",
    "Console.WriteLine($\"Notebook creation initiated. Location: {location}\");\n",
    "\n",
    "// Step 2: Poll the status\n",
    "if (!string.IsNullOrEmpty(location))\n",
    "{\n",
    "    string finalResponse = await PollStatusAsync(location);\n",
    "    Console.WriteLine(\"Final Notebook Response:\");\n",
    "    Console.WriteLine(finalResponse);\n",
    "}\n",
    "else\n",
    "{\n",
    "    Console.WriteLine(\"No Location header received; unable to poll.\");\n",
    "}\n"
   ]
  },
  {
   "cell_type": "code",
   "execution_count": null,
   "metadata": {
    "dotnet_interactive": {
     "language": "csharp"
    },
    "polyglot_notebook": {
     "kernelName": "csharp"
    },
    "vscode": {
     "languageId": "polyglot-notebook"
    }
   },
   "outputs": [],
   "source": [
    "\n",
    "using System.Collections.Generic;\n",
    "using System.Text.Json;\n",
    "using System.Text.Json.Serialization;\n",
    "\n",
    "// Define classes matching the JSON structure\n",
    "public class WorkspaceListResponse\n",
    "{\n",
    "    [JsonPropertyName(\"value\")]\n",
    "    public List<Workspace> Value { get; set; }\n",
    "}\n",
    "\n",
    "public class Workspace\n",
    "{\n",
    "    [JsonPropertyName(\"id\")]\n",
    "    public string Id { get; set; }\n",
    "\n",
    "    // Include other properties if needed\n",
    "    [JsonPropertyName(\"name\")]\n",
    "    public string Name { get; set; }\n",
    "}\n",
    "\n",
    "public class NotebookListResponse\n",
    "{\n",
    "    [JsonPropertyName(\"value\")]\n",
    "    public List<Notebook> Value { get; set; }\n",
    "}\n",
    "\n",
    "public class Notebook\n",
    "{\n",
    "    [JsonPropertyName(\"id\")]\n",
    "    public string Id { get; set; }\n",
    "\n",
    "    [JsonPropertyName(\"type\")]\n",
    "    public string Type { get; set; }\n",
    "\n",
    "    [JsonPropertyName(\"displayName\")]\n",
    "    public string DisplayName { get; set; }\n",
    "\n",
    "    [JsonPropertyName(\"description\")]\n",
    "    public string Description { get; set; }\n",
    "\n",
    "    [JsonPropertyName(\"workspaceId\")]\n",
    "    public string WorkspaceId { get; set; }\n",
    "}"
   ]
  },
  {
   "cell_type": "code",
   "execution_count": null,
   "metadata": {
    "dotnet_interactive": {
     "language": "csharp"
    },
    "polyglot_notebook": {
     "kernelName": "csharp"
    },
    "vscode": {
     "languageId": "polyglot-notebook"
    }
   },
   "outputs": [],
   "source": [
    "\n",
    "WorkspaceListResponse workspaceList = JsonSerializer.Deserialize<WorkspaceListResponse>(workspacesResponse);"
   ]
  },
  {
   "cell_type": "code",
   "execution_count": null,
   "metadata": {
    "dotnet_interactive": {
     "language": "csharp"
    },
    "polyglot_notebook": {
     "kernelName": "csharp"
    },
    "vscode": {
     "languageId": "polyglot-notebook"
    }
   },
   "outputs": [],
   "source": [
    "// Example: Get notebooks in a workspace\n",
    "string workspaceId = \"4aca0508-e966-40a7-a2a2-84861b281c83\";\n",
    "string notebooksEndpoint = $\"workspaces/{workspaceId}/notebooks\";\n",
    "string notebooksResponse = await GetAsync(notebooksEndpoint);\n",
    "Console.WriteLine(\"Notebooks in workspace:\");\n",
    "Console.WriteLine(notebooksResponse);\n"
   ]
  },
  {
   "cell_type": "code",
   "execution_count": null,
   "metadata": {
    "dotnet_interactive": {
     "language": "csharp"
    },
    "polyglot_notebook": {
     "kernelName": "csharp"
    },
    "vscode": {
     "languageId": "polyglot-notebook"
    }
   },
   "outputs": [],
   "source": [
    "static string ToBase64(string input)\n",
    "{\n",
    "    if (string.IsNullOrEmpty(input))\n",
    "    {\n",
    "        throw new ArgumentException(\"Input string cannot be null or empty\", nameof(input));\n",
    "    }\n",
    "\n",
    "    // Convert the string to a byte array\n",
    "    byte[] byteArray = Encoding.UTF8.GetBytes(input);\n",
    "\n",
    "    // Convert the byte array to a Base64 string\n",
    "    return Convert.ToBase64String(byteArray);\n",
    "}"
   ]
  },
  {
   "cell_type": "code",
   "execution_count": null,
   "metadata": {
    "dotnet_interactive": {
     "language": "csharp"
    },
    "polyglot_notebook": {
     "kernelName": "csharp"
    },
    "vscode": {
     "languageId": "polyglot-notebook"
    }
   },
   "outputs": [],
   "source": [
    "using System;\n",
    "using System.IO;\n",
    "// try to push a notebook between workspaces. \n",
    "// /Users/yoavdobrin/workspace/fta/fabric-deployment-hub/notebooks/items/notebooks/Notebook 2.Notebook\n",
    "string src_location = \"./items/notebooks/Notebook 2.Notebook\";\n",
    "// verify there are files in the src_location\n",
    "if (Directory.Exists(src_location))\n",
    "    {\n",
    "        // List all files in the folder\n",
    "        string[] files = Directory.GetFiles(src_location);\n",
    "        Console.WriteLine(\"Files:\");\n",
    "        foreach (string file in files)\n",
    "        {\n",
    "            string content = File.ReadAllText(file);\n",
    "            string base64Content = ToBase64(content);\n",
    "            string base64FilePath = $\"{file}.b64\";\n",
    "            // Write the Base64 content to the new file\n",
    "            File.WriteAllText(base64FilePath, base64Content);\n",
    "\n",
    "            Console.WriteLine($\"Base64 file created: {base64FilePath}\");\n",
    "            // Console.WriteLine(file);\n",
    "        }\n",
    "    }\n",
    "    else\n",
    "    {\n",
    "        Console.WriteLine(\"Folder does not exist.\");\n",
    "    }"
   ]
  },
  {
   "cell_type": "code",
   "execution_count": null,
   "metadata": {
    "dotnet_interactive": {
     "language": "csharp"
    },
    "polyglot_notebook": {
     "kernelName": "csharp"
    },
    "vscode": {
     "languageId": "polyglot-notebook"
    }
   },
   "outputs": [],
   "source": [
    "\n",
    "using System.Text.Json;\n",
    "\n",
    "// Fetch workspaces\n",
    "string workspacesResponse = await GetAsync(\"workspaces\");\n",
    "\n",
    "// Parse workspaces response\n",
    "WorkspaceListResponse workspaceList = JsonSerializer.Deserialize<WorkspaceListResponse>(workspacesResponse);\n",
    "\n",
    "// Check if workspaces are found\n",
    "if (workspaceList?.Value != null && workspaceList.Value.Count > 0)\n",
    "{\n",
    "    // Iterate over each workspace\n",
    "    foreach (var workspace in workspaceList.Value)\n",
    "    {\n",
    "        string workspaceId = workspace.Id;\n",
    "        string notebooksEndpoint = $\"workspaces/{workspaceId}/notebooks\";\n",
    "        string notebooksResponse = await GetAsync(notebooksEndpoint);\n",
    "\n",
    "        // Parse notebooks response\n",
    "        NotebookListResponse notebookList = JsonSerializer.Deserialize<NotebookListResponse>(notebooksResponse);\n",
    "\n",
    "        // Output the notebooks\n",
    "        Console.WriteLine($\"Notebooks in Workspace '{workspace.Name}' (ID: {workspaceId}):\");\n",
    "        if (notebookList?.Value != null && notebookList.Value.Count > 0)\n",
    "        {\n",
    "            foreach (var notebook in notebookList.Value)\n",
    "            {\n",
    "                Console.WriteLine($\"- {notebook.DisplayName} (ID: {notebook.Id})\");       \n",
    "                // Fetch notebook definition\n",
    "                string notebookId = notebook.Id;\n",
    "                string getDefinitionEndpoint = $\"workspaces/{workspaceId}/notebooks/{notebookId}/getDefinition\";\n",
    "\n",
    "                // The getDefinition endpoint may or may not require a body. If it requires an empty JSON object, we can send that.\n",
    "                HttpContent content = new StringContent(\"{}\", System.Text.Encoding.UTF8, \"application/json\");\n",
    "\n",
    "                string definitionResponse = await PostAsync(getDefinitionEndpoint, content);\n",
    "\n",
    "                // Output or process the definition\n",
    "                Console.WriteLine($\"Definition of Notebook '{notebook.DisplayName}' (ID: {notebookId}):\");\n",
    "                Console.WriteLine(definitionResponse);\n",
    "                Console.WriteLine(); // Add an empty line for readability\n",
    "          \n",
    "            }\n",
    "        }\n",
    "        else\n",
    "        {\n",
    "            Console.WriteLine(\"No notebooks found in this workspace.\");\n",
    "        }\n",
    "\n",
    "        Console.WriteLine(); // Add an empty line for readability\n",
    "    }\n",
    "}\n",
    "else\n",
    "{\n",
    "    Console.WriteLine(\"No workspaces found.\");\n",
    "}"
   ]
  },
  {
   "cell_type": "code",
   "execution_count": null,
   "metadata": {
    "dotnet_interactive": {
     "language": "csharp"
    },
    "polyglot_notebook": {
     "kernelName": "csharp"
    },
    "vscode": {
     "languageId": "polyglot-notebook"
    }
   },
   "outputs": [],
   "source": [
    "\n",
    "// Example: Post to get notebook definition\n",
    "string notebookId = \"your_notebook_id\";\n",
    "string getDefinitionEndpoint = $\"workspaces/{workspaceId}/notebooks/{notebookId}/getDefinition\";\n",
    "HttpContent content = new StringContent(\"\"); // Replace with actual content if required\n",
    "string definitionResponse = await PostAsync(getDefinitionEndpoint, content);\n",
    "Console.WriteLine(\"Notebook definition:\");\n",
    "Console.WriteLine(definitionResponse);"
   ]
  },
  {
   "cell_type": "code",
   "execution_count": null,
   "metadata": {
    "dotnet_interactive": {
     "language": "csharp"
    },
    "polyglot_notebook": {
     "kernelName": "csharp"
    },
    "vscode": {
     "languageId": "polyglot-notebook"
    }
   },
   "outputs": [],
   "source": [
    "// Create client \n",
    "HttpClient client = new HttpClient(); \n",
    "client.DefaultRequestHeaders.Authorization = new AuthenticationHeaderValue(\"Bearer\", result.AccessToken); \n",
    "string baseUrl = \"https://api.fabric.microsoft.com/v1/\"; \n",
    "client.BaseAddress = new Uri(baseUrl); \n",
    "\n",
    "// Call list workspaces API \n",
    "HttpResponseMessage response = await client.GetAsync(\"workspaces\"); \n",
    "string responseBody = await response.Content.ReadAsStringAsync(); \n",
    "Console.WriteLine(responseBody);"
   ]
  },
  {
   "cell_type": "code",
   "execution_count": null,
   "metadata": {
    "dotnet_interactive": {
     "language": "csharp"
    },
    "polyglot_notebook": {
     "kernelName": "csharp"
    },
    "vscode": {
     "languageId": "polyglot-notebook"
    }
   },
   "outputs": [],
   "source": [
    "\n",
    "\n",
    "IConfidentialClientApplication app = ConfidentialClientApplicationBuilder.Create(clientId)\n",
    "    .WithClientSecret(client_secret)\n",
    "    .WithAuthority(authority)\n",
    "    .Build();\n",
    "\n",
    "try\n",
    "    {\n",
    "        AuthenticationResult result = await app.AcquireTokenForClient(scopes)\n",
    "            .ExecuteAsync();\n",
    "        Console.WriteLine(\"Access Token:\");\n",
    "        Console.WriteLine(result.AccessToken);\n",
    "\n",
    "            // Use the access token to call your API\n",
    "        HttpClient client = new HttpClient(); \n",
    "        client.DefaultRequestHeaders.Authorization = new AuthenticationHeaderValue(\"Bearer\", result.AccessToken); \n",
    "        string baseUrl = \"https://api.fabric.microsoft.com/v1/\"; \n",
    "        client.BaseAddress = new Uri(baseUrl); \n",
    "           // Call list workspaces API \n",
    "        HttpResponseMessage response = await client.GetAsync(\"workspaces\"); \n",
    "        string responseBody = await response.Content.ReadAsStringAsync(); \n",
    "        Console.WriteLine(responseBody);\n",
    "    }catch (MsalServiceException ex)\n",
    "    {\n",
    "        Console.WriteLine($\"MsalServiceException: {ex.Message}\");\n",
    "    }\n",
    "    catch (Exception ex)\n",
    "    {\n",
    "        Console.WriteLine($\"Exception: {ex.Message}\");\n",
    "    }"
   ]
  }
 ],
 "metadata": {
  "kernelspec": {
   "display_name": ".NET (C#)",
   "language": "C#",
   "name": ".net-csharp"
  },
  "language_info": {
   "name": "python"
  },
  "polyglot_notebook": {
   "kernelInfo": {
    "defaultKernelName": "csharp",
    "items": [
     {
      "aliases": [],
      "name": "csharp"
     }
    ]
   }
  }
 },
 "nbformat": 4,
 "nbformat_minor": 2
}
