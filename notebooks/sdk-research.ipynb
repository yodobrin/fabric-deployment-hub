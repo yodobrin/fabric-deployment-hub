{
 "cells": [
  {
   "cell_type": "code",
   "execution_count": null,
   "metadata": {
    "vscode": {
     "languageId": "polyglot-notebook"
    }
   },
   "outputs": [],
   "source": [
    "// #r dotnet add package Microsoft.Identity.Client --version 4.66.2\n",
    "\n",
    "// #r \"nuget: Microsoft.Identity.Client, 4.66.2\"\n",
    "#r \"nuget: Azure.Identity, 1.13.1\"\n",
    "#r \"nuget: DotNetEnv, 2.5.0\"\n",
    "#r \"nuget: Microsoft.Net.Http,  2.2.29\"\n",
    "#r \"nuget: Microsoft.Fabric.Api, 1.0.0-beta\"\n"
   ]
  },
  {
   "cell_type": "code",
   "execution_count": null,
   "metadata": {
    "dotnet_interactive": {
     "language": "csharp"
    },
    "polyglot_notebook": {
     "kernelName": "csharp"
    },
    "vscode": {
     "languageId": "polyglot-notebook"
    }
   },
   "outputs": [],
   "source": [
    "// This is currently very sketchy API/SDL prefer using rest\n",
    "\n",
    "using Microsoft.Fabric.Api;\n",
    "\n",
    "var fabricClient = new FabricClient(await GetAccessTokenAsync());\n",
    "// Get the list of workspaces using the client\n",
    "var workspaces = fabricClient.Core.Workspaces.ListWorkspaces().ToList();\n",
    "Console.WriteLine(\"Number of workspaces: \" + workspaces.Count);\n",
    "foreach (var workspace in workspaces)\n",
    "{\n",
    "    Console.WriteLine($\"Workspace: {workspace.DisplayName}, Capacity ID: {workspace.CapacityId}\");\n",
    "}\n",
    "\n",
    "var workspaceId = workspaces[0].Id;\n",
    "var items = fabricClient.Admin.Items.ListItems(workspaceId).ToList();\n",
    "Console.WriteLine(\"Number of items: \" + items.Count);\n",
    "foreach (var item in items)\n",
    "{\n",
    "    Console.WriteLine($\"Item: {item.GetType()}, Name: {item.Name}, ID: {item.Id}\");\n",
    "}"
   ]
  }
 ],
 "metadata": {
  "kernelspec": {
   "display_name": ".NET (C#)",
   "language": "C#",
   "name": ".net-csharp"
  },
  "language_info": {
   "name": "python"
  },
  "polyglot_notebook": {
   "kernelInfo": {
    "defaultKernelName": "csharp",
    "items": [
     {
      "aliases": [],
      "name": "csharp"
     }
    ]
   }
  }
 },
 "nbformat": 4,
 "nbformat_minor": 2
}
